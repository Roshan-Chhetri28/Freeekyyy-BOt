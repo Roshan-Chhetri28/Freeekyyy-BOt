{
 "cells": [
  {
   "cell_type": "code",
   "execution_count": null,
   "id": "03846df0",
   "metadata": {},
   "outputs": [
    {
     "data": {
      "text/plain": [
       "True"
      ]
     },
     "execution_count": 13,
     "metadata": {},
     "output_type": "execute_result"
    }
   ],
   "source": [
    "from langchain_community.chat_models import  ChatOpenAI\n",
    "from langchain_core.output_parsers import StrOutputParser\n",
    "from langchain_core.prompts import ChatPromptTemplate\n",
    "import os\n",
    "from dotenv import load_dotenv\n",
    "load_dotenv()"
   ]
  },
  {
   "cell_type": "code",
   "execution_count": 9,
   "id": "cc9eec6a",
   "metadata": {},
   "outputs": [],
   "source": [
    "os.environ['OPEN_API_KEY'] = os.getenv('OPENROUTE_API_KEY')\n",
    "os.environ['LANGCHAIN_API_KEY'] = os.getenv('LANGCHAIN_API')\n",
    "os.environ['LANGCHAIN_TRACING_V2'] = \"true\""
   ]
  },
  {
   "cell_type": "code",
   "execution_count": null,
   "id": "8b80a8ff",
   "metadata": {},
   "outputs": [],
   "source": [
    "prompt = ChatPromptTemplate.from_messages(\n",
    "    [\n",
    "        ('system', 'You are a helpful ai assistant and You need to freak out in every topic they provide this is compulsory you justt freak out'),\n",
    "        ('user', 'Topic/Question: {Topic}')\n",
    "    ]\n",
    ")"
   ]
  },
  {
   "cell_type": "code",
   "execution_count": 28,
   "id": "8f0aa3eb",
   "metadata": {},
   "outputs": [],
   "source": [
    "llm = ChatOpenAI(\n",
    "    base_url=\"https://openrouter.ai/api/v1\",\n",
    "    openai_api_key=os.environ['OPEN_API_KEY'], \n",
    "    model=\"deepseek/deepseek-r1-zero:free\",              \n",
    "    temperature=0.5\n",
    ")"
   ]
  },
  {
   "cell_type": "code",
   "execution_count": 29,
   "id": "2f208573",
   "metadata": {},
   "outputs": [],
   "source": [
    "input_text = 'Lets talk about pakistan'"
   ]
  },
  {
   "cell_type": "code",
   "execution_count": 30,
   "id": "8452261f",
   "metadata": {},
   "outputs": [],
   "source": [
    "output_parser = StrOutputParser()"
   ]
  },
  {
   "cell_type": "code",
   "execution_count": 31,
   "id": "0fc98a86",
   "metadata": {},
   "outputs": [],
   "source": [
    "chain = prompt|llm|output_parser"
   ]
  },
  {
   "cell_type": "code",
   "execution_count": 32,
   "id": "c619902a",
   "metadata": {},
   "outputs": [
    {
     "data": {
      "text/plain": [
       "'\\\\boxed{```text\\nTo discuss Pakistan, let us delve into various aspects such as its geography, history, culture, economy, politics, and current issues.\\n\\n### Geography\\n\\nPakistan is a country located in South Asia, bordered by India to the east, Afghanistan and Iran to the west, China to the north, and the Arabian Sea to the south. It has a diverse geography, including the Indus River plain which is a major agricultural region, the Thar Desert in the southeast, and the mountainous regions in the north which include part of the Himalayas, the Karakoram range (home to K2, the second highest peak in the world), and the Hindu Kush. Pakistan has a total area of approximately 881,913 square kilometers.\\n\\n### History\\n\\n#### Pre-Independence\\nThe region that is now Pakistan has a rich history that dates back to the ancient Indus Valley Civilization (circa 2500 BCE), one of the world\\'s earliest urban civilizations. Over the centuries, the region saw the rise and fall of various empires including the Mauryan, Gupta, Persian, Greek, and Mughal empires.\\n\\n#### Independence and Partition\\nPakistan was created on August 14, 1947, as a result of the partition of British India into two independent dominions: India and Pakistan. The partition was based on religious lines, with Pakistan being established as a homeland for Muslims. The partition led to one of the largest mass migrations in human history, accompanied by widespread communal violence.\\n\\n#### Early Years and Political Development\\nInitially, Pakistan consisted of two geographically separated regions: West Pakistan (present-day Pakistan) and East Pakistan (which later became Bangladesh in 1971 after a bloody war of independence). The first few decades were marked by political instability, with frequent changes in government and military coups. The first military coup took place in 1958 when General Ayub Khan seized power.\\n\\n#### 1971 War and Bangladesh Independence\\nThe 1971 Bangladesh Liberation War led to the secession of East Pakistan, which became the independent nation of Bangladesh. This was a significant event that reshaped the geopolitical landscape of South Asia.\\n\\n#### Recent History (1980s to Present)\\nThe 1980s were dominated by the military rule of General Zia-ul-Haq, who implemented a series of Islamization policies in the country. The 1990s saw a return to democracy, albeit with a series of short-lived civilian governments until General Pervez Musharraf took power in a bloodless coup in 1999. Musharraf ruled until 2008 when he resigned under pressure and a civilian government was restored.\\n\\n### Culture\\n\\n#### Languages\\nThe official language of Pakistan is Urdu, while English is also used extensively in government, business, and education. Additionally, there are several regional languages spoken throughout the country, including Punjabi, Sindhi, Pashto, and Balochi.\\n\\n#### Religion\\nIslam is the state religion of Pakistan, and the majority of the population (around 96%) is Muslim, predominantly Sunni. There are also smaller communities of Shia Muslims, as well as religious minorities such as Christians, Hindus, Sikhs, and others.\\n\\n#### Cuisine\\nPakistani cuisine is a rich blend of various regional cooking traditions from South Asia. It is known for its rich flavors and spicy dishes. Some popular dishes include biryani, nihari, kebabs, and a variety of breads such as naan and roti.\\n\\n#### Arts and Music\\nPakistan has a vibrant cultural scene with a rich tradition of music, dance, and arts. Qawwali, a form of Sufi devotional music, is particularly famous. Traditional dances include the Bhangra and the Kathak. Pakistani cinema, known as \"Lollywood\" (based in Lahore), has a long history, although it has faced competition from Bollywood.\\n\\n### Economy\\n\\n#### Overview\\nPakistan has a mixed economy with agriculture, industry, and services sectors. The country is one of the world\\'s largest producers of wheat, cotton, sugarcane, and rice. Major industries include textiles, chemicals, food processing, and steel.\\n\\n#### Challenges\\nThe economy faces several challenges such as a high population growth rate, energy shortages, political instability, and security issues. However, there are also opportunities for growth, particularly in sectors such as IT and services.\\n\\n#### Recent Developments\\nIn recent years, the China-Pakistan Economic Corridor (CPEC) has been a significant development, aiming to enhance connectivity and trade between China and Pakistan through a network of roads, railways, and energy projects.\\n\\n### Politics\\n\\n#### Government Structure\\nPakistan is a federal parliamentary republic where the President is the head of state and the Prime Minister is the head of government. The country has a bicameral legislature consisting of the National Assembly (lower house) and the Senate (upper house).\\n\\n#### Political Parties\\nMajor political parties include the Pakistan Tehreek-e-Insaf (PTI) led by Imran Khan, the Pakistan Muslim League-Nawaz (PML-N) led by Nawaz Sharif, and the Pakistan Peoples Party (PPP) led by Bilawal Bhutto Zardari.\\n\\n#### Current Issues\\nPakistan faces a variety of political challenges including corruption, political instability, and tensions with neighboring countries such as India and Afghanistan. Additionally, the country has been a key ally of the United States in the War on Terror, which has had significant domestic implications.\\n\\n### Current Issues\\n\\n#### Security and Terrorism\\nPakistan has been affected by terrorism and militant activities for several decades. The country has been a battleground for various militant groups, including the Pakistani Taliban and other extremist organizations. The government has launched military operations such as Operation Zarb-e-Azb to combat terrorism.\\n\\n#### Human Rights\\nThere are ongoing concerns about human rights in Pakistan, including issues such as freedom of speech, women\\'s rights, and the treatment of religious minorities. Blasphemy laws have been a particularly contentious issue, often leading to violence against those accused.\\n\\n#### Environmental Issues\\nPakistan faces significant environmental challenges including air and water pollution, deforestation, and the effects of climate change such as increased frequency of floods and droughts.\\n\\n#### COVID-19 Pandemic\\nLike much of the world, Pakistan has been affected by the COVID-19 pandemic. The government has taken measures to control the spread of the virus, including lockdowns and vaccination campaigns.\\n\\n### Conclusion\\n\\nPakistan is a country with a rich history, diverse culture, and significant geopolitical importance. Despite facing numerous challenges such as political instability, economic difficulties, and security issues, it continues to make strides in various sectors and plays a crucial role in regional and global affairs.\\n```}'"
      ]
     },
     "execution_count": 32,
     "metadata": {},
     "output_type": "execute_result"
    }
   ],
   "source": [
    "chain.invoke({\"Topic\":input_text})"
   ]
  },
  {
   "cell_type": "code",
   "execution_count": null,
   "id": "b69c798f",
   "metadata": {},
   "outputs": [],
   "source": []
  }
 ],
 "metadata": {
  "kernelspec": {
   "display_name": ".venv",
   "language": "python",
   "name": "python3"
  },
  "language_info": {
   "codemirror_mode": {
    "name": "ipython",
    "version": 3
   },
   "file_extension": ".py",
   "mimetype": "text/x-python",
   "name": "python",
   "nbconvert_exporter": "python",
   "pygments_lexer": "ipython3",
   "version": "3.12.7"
  }
 },
 "nbformat": 4,
 "nbformat_minor": 5
}
